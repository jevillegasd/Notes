{
 "cells": [
  {
   "cell_type": "markdown",
   "metadata": {},
   "source": [
    "# Using ML for subwavelength feature photonic components"
   ]
  },
  {
   "cell_type": "markdown",
   "metadata": {},
   "source": [
    "## MMI\n",
    "\n",
    "In this project we design a 4 port photonic structure based on a combination of subwavelength light dispersion and Multi Mode Interference to create a power splitting device with configurable S relations. Using machine learning an array of etched patterns is created to obey a specified transmission matrix. "
   ]
  },
  {
   "cell_type": "markdown",
   "metadata": {},
   "source": [
    "## Circulator\n",
    "\n",
    "We design a three port design with configurable trasmission matrix, focusing on finding a configuration that can enable a circulator behavior (transmission is mainly from port1-2, port 2-3 and port 3-1) using only silicon."
   ]
  },
  {
   "cell_type": "code",
   "execution_count": null,
   "metadata": {},
   "outputs": [],
   "source": []
  }
 ],
 "metadata": {
  "kernelspec": {
   "display_name": "Python 3",
   "language": "python",
   "name": "python3"
  },
  "language_info": {
   "codemirror_mode": {
    "name": "ipython",
    "version": 3
   },
   "file_extension": ".py",
   "mimetype": "text/x-python",
   "name": "python",
   "nbconvert_exporter": "python",
   "pygments_lexer": "ipython3",
   "version": "3.7.6"
  }
 },
 "nbformat": 4,
 "nbformat_minor": 4
}
